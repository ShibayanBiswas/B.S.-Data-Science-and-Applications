{
 "cells": [
  {
   "cell_type": "markdown",
   "id": "2379e132",
   "metadata": {},
   "source": [
    "### Sort the dictionary based on values\n",
    "### input ={ 'a' :7, 'b' :4, 'c' :2, 'q' : 1 }\n",
    "### output = {'q':1 , 'c':2, 'b':4, 'a':7}\n",
    "### Steps\n",
    "#### Get the list of values\n",
    "#### Sort the list of values\n",
    "#### Get the key coresponding to sorted list of values and then create a new dictionary with this order"
   ]
  },
  {
   "cell_type": "code",
   "execution_count": 1,
   "id": "10ae0d2d",
   "metadata": {},
   "outputs": [
    {
     "name": "stdout",
     "output_type": "stream",
     "text": [
      "dict_values([3, 4, 2, 1])\n"
     ]
    }
   ],
   "source": [
    "d = { 'a' :3, 'b' :4, 'c' :2, 'q' : 1 }\n",
    "values = d.values()\n",
    "print(values)\n",
    "## look at the data type of values"
   ]
  },
  {
   "cell_type": "code",
   "execution_count": 2,
   "id": "008e9e7b",
   "metadata": {},
   "outputs": [
    {
     "name": "stdout",
     "output_type": "stream",
     "text": [
      "[3, 4, 2, 1]\n"
     ]
    }
   ],
   "source": [
    "values = list(d.values())\n",
    "print(values)\n",
    "## look at how we are able to convert the dict_values to list so that we could perform our required operations."
   ]
  },
  {
   "cell_type": "markdown",
   "id": "f09d7f83",
   "metadata": {},
   "source": [
    "### Now we will use list of values and sort the list\n",
    "### We will use this list of sorted values to create dictionary in same sorted order"
   ]
  },
  {
   "cell_type": "code",
   "execution_count": 3,
   "id": "63b3662a",
   "metadata": {},
   "outputs": [
    {
     "name": "stdout",
     "output_type": "stream",
     "text": [
      "ascending order list: [1, 2, 3, 4]\n",
      "{'q': 1, 'c': 2, 'a': 3, 'b': 4}\n"
     ]
    }
   ],
   "source": [
    "#list.sort(reverse=True) does sorting in descending order instead of default ascending order\n",
    "values.sort()\n",
    "print(f\"ascending order list: {values}\")\n",
    "d1 = {}\n",
    "for value in values:\n",
    "    for k in d:\n",
    "        if d[k] == value:\n",
    "            d1[k] = value\n",
    "print(d1)"
   ]
  },
  {
   "cell_type": "markdown",
   "id": "74dc6091",
   "metadata": {},
   "source": [
    "### Dictionary with keys as tuples"
   ]
  },
  {
   "cell_type": "code",
   "execution_count": 4,
   "id": "f3d0fc31",
   "metadata": {},
   "outputs": [
    {
     "name": "stdout",
     "output_type": "stream",
     "text": [
      "a:1, b:2, key: (1,2), value d[(a,b)]:2\n",
      "a:3, b:4, key: (3,4), value d[(a,b)]:3\n",
      "a:5, b:6, key: (5,6), value d[(a,b)]:4\n"
     ]
    }
   ],
   "source": [
    "d= {(1,2):2,(3,4):3,(5,6):4}\n",
    "# Since we know that each key in dictionary is a tuple of exactly 2 values,\n",
    "# we can directly assign it to two variables a,b like below\n",
    "for a,b in d:\n",
    "    print(f\"a:{a}, b:{b}, key: ({a},{b}), value d[(a,b)]:{d[(a,b)]}\")"
   ]
  },
  {
   "cell_type": "markdown",
   "id": "6748757b",
   "metadata": {},
   "source": [
    "## List of lists"
   ]
  },
  {
   "cell_type": "code",
   "execution_count": 5,
   "id": "5abc8450",
   "metadata": {},
   "outputs": [
    {
     "name": "stdout",
     "output_type": "stream",
     "text": [
      "first row: [1, 2, 3]\n",
      "Lol[0][0]: 1\n",
      "Lol[1][2]: 6\n"
     ]
    }
   ],
   "source": [
    "LoL = [[1,2,3],[4,5,6],[7,8,9]]\n",
    "print(f\"first row: {LoL[0]}\")\n",
    "#0th row 0th column L[0][0]\n",
    "print(f\"Lol[0][0]: {LoL[0][0]}\")\n",
    "#ith row jth column L[i][j], for example i = 1, j = 2\n",
    "print(f\"Lol[1][2]: {LoL[1][2]}\")"
   ]
  },
  {
   "cell_type": "code",
   "execution_count": 6,
   "id": "34c307a1",
   "metadata": {},
   "outputs": [
    {
     "name": "stdout",
     "output_type": "stream",
     "text": [
      "[[1, 2, 3], [4, 5, 6], [7, 8, 9]]\n"
     ]
    }
   ],
   "source": [
    "## ith row\n",
    "#i = 0, removing 0th row\n",
    "i = 2\n",
    "# We wish to remove the third row, i =2.\n",
    "LoL = [[1,2,3],[4,5,6],[1,2,3],[7,8,9]]\n",
    "#You could either remove row by slicing like below or by using del method\n",
    "#LoL = LoL[:i] + LoL[i+1:]\n",
    "del LoL[-2]\n",
    "print(LoL)"
   ]
  },
  {
   "cell_type": "code",
   "execution_count": 7,
   "id": "5d9928a0",
   "metadata": {},
   "outputs": [
    {
     "name": "stdout",
     "output_type": "stream",
     "text": [
      "[[2, 3], [5, 6], [8, 9]]\n"
     ]
    }
   ],
   "source": [
    "j = 0\n",
    "for i in range(len(LoL)):\n",
    "    # Here too we can remove element by slicing or by del method\n",
    "    #LoL[i] = LoL[i][:j] + LoL[i][j+1:]\n",
    "    del LoL[i][j] \n",
    "print(LoL)"
   ]
  },
  {
   "cell_type": "markdown",
   "id": "c341e67d",
   "metadata": {},
   "source": [
    "### List of dictionaries"
   ]
  },
  {
   "cell_type": "markdown",
   "id": "33ba9476",
   "metadata": {},
   "source": [
    "#### Accessing elements "
   ]
  },
  {
   "cell_type": "code",
   "execution_count": 8,
   "id": "0a440f1d",
   "metadata": {},
   "outputs": [
    {
     "name": "stdout",
     "output_type": "stream",
     "text": [
      "3\n"
     ]
    }
   ],
   "source": [
    "LoD = [{'a':1,'b':2,'c':3,'d':4},{'A':1,'B':2,'C':3,'D':4}]\n",
    "## Accessing 0th row element with key 'c'\n",
    "## Firt one should be accessed through index, second one through key\n",
    "print(LoD[0]['c'])"
   ]
  },
  {
   "cell_type": "markdown",
   "id": "d405a417",
   "metadata": {},
   "source": [
    "#### Adding a key,value pair to the first dictionary \n",
    "The same method can be used to any dictionary in the list, all we need is a index to access that dictionary first"
   ]
  },
  {
   "cell_type": "code",
   "execution_count": 9,
   "id": "efac5e1c",
   "metadata": {},
   "outputs": [
    {
     "name": "stdout",
     "output_type": "stream",
     "text": [
      "[{'a': 1, 'b': 2, 'c': 3, 'd': 4, 'e': 5}, {'A': 1, 'B': 2, 'C': 3, 'D': 4}]\n"
     ]
    }
   ],
   "source": [
    "## Adding a key,value pair ('e',5) to the first dictionary \n",
    "LoD[0]['e']= 5\n",
    "print(LoD)"
   ]
  },
  {
   "cell_type": "markdown",
   "id": "9acdcf61",
   "metadata": {},
   "source": [
    "#### Updating value of particular dictionary in list."
   ]
  },
  {
   "cell_type": "code",
   "execution_count": 10,
   "id": "90cdc074",
   "metadata": {},
   "outputs": [
    {
     "name": "stdout",
     "output_type": "stream",
     "text": [
      "[{'a': 1, 'b': 2, 'c': 3, 'd': 4, 'e': 5}, {'A': 1, 'B': 2, 'C': 3, 'D': 4}]\n"
     ]
    }
   ],
   "source": [
    "## update the value of second dictionary with key 'D' to 6.\n",
    "# index of second dictionary is 1\n",
    "LoD[1]['D']=4\n",
    "print(LoD)"
   ]
  },
  {
   "cell_type": "markdown",
   "id": "b4f87853",
   "metadata": {},
   "source": [
    "#### deleting a key,value pair of a dictionary "
   ]
  },
  {
   "cell_type": "code",
   "execution_count": 11,
   "id": "9960f422",
   "metadata": {},
   "outputs": [
    {
     "name": "stdout",
     "output_type": "stream",
     "text": [
      "[{'a': 1, 'b': 2, 'c': 3, 'd': 4}, {'A': 1, 'B': 2, 'C': 3, 'D': 4}]\n"
     ]
    }
   ],
   "source": [
    "# now key value pair 'e':6 will be removed\n",
    "del LoD[0]['e']\n",
    "print(LoD)"
   ]
  },
  {
   "cell_type": "markdown",
   "id": "7ef8a025",
   "metadata": {},
   "source": [
    "### pop method"
   ]
  },
  {
   "cell_type": "code",
   "execution_count": 12,
   "id": "820047cf",
   "metadata": {},
   "outputs": [
    {
     "name": "stdout",
     "output_type": "stream",
     "text": [
      "L after popping: [0, 1, 2] popped element: 3\n"
     ]
    }
   ],
   "source": [
    "# Understanding pop method in a list\n",
    "# Pop method removes the last element and returns the popped element\n",
    "L = [0,1,2,3]\n",
    "last = L.pop()\n",
    "print(\"L after popping:\",L,\"popped element:\",last)"
   ]
  },
  {
   "cell_type": "code",
   "execution_count": 13,
   "id": "8ab14e1a",
   "metadata": {},
   "outputs": [
    {
     "name": "stdout",
     "output_type": "stream",
     "text": [
      "L after popping: [0, 1] popped element: 2\n"
     ]
    }
   ],
   "source": [
    "last2 = L.pop()\n",
    "print(\"L after popping:\",L,\"popped element:\",last2)"
   ]
  },
  {
   "cell_type": "markdown",
   "id": "9aba8d25",
   "metadata": {},
   "source": [
    "### Using pop method to remove a key value pair in dictionary"
   ]
  },
  {
   "cell_type": "code",
   "execution_count": 14,
   "id": "6aa5d5bd",
   "metadata": {},
   "outputs": [
    {
     "name": "stdout",
     "output_type": "stream",
     "text": [
      "{'b': 2, 'c': 3, 'd': 4}\n"
     ]
    }
   ],
   "source": [
    "dpop = {'a': 1, 'b': 2, 'c': 3, 'd': 4}\n",
    "## by mentioning key value you can remove key value pair for a dictionary too\n",
    "dpop.pop('a')\n",
    "print(dpop)"
   ]
  },
  {
   "cell_type": "markdown",
   "id": "d187e3a7",
   "metadata": {},
   "source": [
    "### List of tuples"
   ]
  },
  {
   "cell_type": "code",
   "execution_count": 15,
   "id": "37a9f69e",
   "metadata": {},
   "outputs": [
    {
     "name": "stdout",
     "output_type": "stream",
     "text": [
      "1\n"
     ]
    }
   ],
   "source": [
    "LoT = [(1,2,3),(4,5,6),(7,8,9)]\n",
    "# indexing works in both getting row as list allows indexing \n",
    "# Also indexing can be used to specific element of tuple as tuples too allow indexing\n",
    "print(LoT[0][0])"
   ]
  },
  {
   "cell_type": "code",
   "execution_count": 16,
   "id": "1750263a",
   "metadata": {},
   "outputs": [
    {
     "name": "stdout",
     "output_type": "stream",
     "text": [
      "1 2 3 4\n"
     ]
    }
   ],
   "source": [
    "LoT = [(1,2,3),(4,5,6),(7,8,9)]\n",
    "LoT[0] = tuple(list(LoT[0]) + [4])\n",
    "a,b,c,d = LoT[0]\n",
    "print(a,b,c,d)"
   ]
  }
 ],
 "metadata": {
  "kernelspec": {
   "display_name": "Python 3",
   "language": "python",
   "name": "python3"
  },
  "language_info": {
   "codemirror_mode": {
    "name": "ipython",
    "version": 3
   },
   "file_extension": ".py",
   "mimetype": "text/x-python",
   "name": "python",
   "nbconvert_exporter": "python",
   "pygments_lexer": "ipython3",
   "version": "3.8.8"
  }
 },
 "nbformat": 4,
 "nbformat_minor": 5
}
