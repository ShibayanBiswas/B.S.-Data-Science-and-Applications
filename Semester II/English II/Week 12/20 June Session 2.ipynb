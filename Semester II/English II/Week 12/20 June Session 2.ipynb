{
 "cells": [
  {
   "cell_type": "markdown",
   "id": "30030e4e",
   "metadata": {},
   "source": [
    "## Question: Convert keys to list of values and values to keys for  a dictionary\n",
    "### Input  {1:2,2:3,3:3,0:3,'a':'b','c':'b'}\n",
    "### Output  {2: [1], 3: [2, 3, 0], 'b': ['a', 'c']}"
   ]
  },
  {
   "cell_type": "code",
   "execution_count": 1,
   "id": "ee12fd53",
   "metadata": {},
   "outputs": [
    {
     "name": "stdout",
     "output_type": "stream",
     "text": [
      "{2: [1], 3: [2, 3, 0], 'b': ['a', 'c']}\n"
     ]
    }
   ],
   "source": [
    "d = {1:2,2:3,3:3,0:3,'a':'b','c':'b'}\n",
    "d1 = {}\n",
    "for key in d:\n",
    "    value = d[key]\n",
    "    if value not in d1:\n",
    "        d1[value] = []\n",
    "        d1[value].append(key)\n",
    "        # 1st iteration d1 = {2:[1]}\n",
    "        # 2nd iteration d1 = {2:[1],3:[2]}\n",
    "        # 4th iteration d1 = {2:[1],3:[2,3],'b':['a']}\n",
    "    else:\n",
    "        d1[value].append(key)\n",
    "        # 3rd iteration d1 = {2:[1],3:[2,3]}\n",
    "        # 5th iteration d1 = {2:[1],3:[2,3],'b':['a','c']}\n",
    "print(d1)"
   ]
  },
  {
   "cell_type": "markdown",
   "id": "3300f263",
   "metadata": {},
   "source": [
    "### Question: Sort the list of values in above dictionary d1"
   ]
  },
  {
   "cell_type": "code",
   "execution_count": 2,
   "id": "9a6f7748",
   "metadata": {},
   "outputs": [
    {
     "name": "stdout",
     "output_type": "stream",
     "text": [
      "{2: [1], 3: [0, 2, 3], 'b': ['a', 'c']}\n"
     ]
    }
   ],
   "source": [
    "d = {1:2,2:3,3:3,0:3,'a':'b','c':'b'}\n",
    "d1 = {}\n",
    "for key in d:\n",
    "    value = d[key]\n",
    "    if value not in d1:\n",
    "        d1[value] = []\n",
    "        d1[value].append(key)\n",
    "    else:\n",
    "        for i in range(len(d1[value])):\n",
    "            item = d1[value][i]\n",
    "            if item > key:\n",
    "                d1[value] = d1[value][:i] + [key] +d1[value][i:]\n",
    "                break\n",
    "                # [1,2,3,4] + [5] + [6,7,8]\n",
    "        else:\n",
    "            d1[value].append(key)\n",
    "            \n",
    "            \n",
    "## [1,2,3,4,6,7,8] key = 10\n",
    "print(d1)"
   ]
  },
  {
   "cell_type": "code",
   "execution_count": null,
   "id": "98b019f0",
   "metadata": {},
   "outputs": [],
   "source": []
  }
 ],
 "metadata": {
  "kernelspec": {
   "display_name": "Python 3",
   "language": "python",
   "name": "python3"
  },
  "language_info": {
   "codemirror_mode": {
    "name": "ipython",
    "version": 3
   },
   "file_extension": ".py",
   "mimetype": "text/x-python",
   "name": "python",
   "nbconvert_exporter": "python",
   "pygments_lexer": "ipython3",
   "version": "3.8.8"
  }
 },
 "nbformat": 4,
 "nbformat_minor": 5
}
